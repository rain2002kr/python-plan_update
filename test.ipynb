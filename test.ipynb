{
 "cells": [
  {
   "cell_type": "code",
   "execution_count": 2,
   "id": "68d20af6-b7f9-4a49-8cdf-5ed16254a3f1",
   "metadata": {},
   "outputs": [
    {
     "name": "stdout",
     "output_type": "stream",
     "text": [
      "           날짜   업무 계획 개발    필수  펀 교육 이동  전체\n",
      "21 2022-07-08  4.5  4  0  12.5  3  0  0  24\n",
      "테이블 읽어오기\n",
      "          날짜   업무  계획  개발    필수  펀  교육  이동  전체\n",
      "0 2022-07-08  4.5   4   0  12.5  3   0   0  24\n",
      "테이블 복사\n",
      "           날짜   업무 계획 개발    필수  펀 교육 이동  전체\n",
      "21 2022-07-08  4.5  4  0  12.5  3  0  0  24\n"
     ]
    }
   ],
   "source": [
    "from sqlalchemy import create_engine    \n",
    "import pandas as pd\n",
    "import openpyxl \n",
    "import numpy as np\n",
    "import common_pc\n",
    "\n",
    "sht_name = '220708'\n",
    "\n",
    "org_df, cur_date = common_pc.make_df_from_excel(sht_name)\n",
    "        \n",
    "df_plan_sum = common_pc.make_df_plan_sum(org_df, cur_date)\n",
    "print(df_plan_sum)\n",
    "\n",
    "src_path = r\"D:\\97. 업무공유파일\\000. 계획\\01. 시간분석테이블/\"\n",
    "file =  '03. 시간분석테이블.xlsx'\n",
    "df_plan_sum.to_excel(src_path+file, sheet_name = sht_name, index=False)\n",
    "# common_pc.save_excel( src_path+file, sht_name = 'plan_details')\n",
    "\n",
    "\n",
    "rdf = pd.read_excel(src_path+file, sheet_name = sht_name)\n",
    "print('테이블 읽어오기')\n",
    "print(rdf)\n",
    "\n",
    "ndf1 = df_plan_sum.copy()\n",
    "# ndf1 = ndf1.iloc[0,1] = 220709\n",
    "\n",
    "print('테이블 복사')\n",
    "print(ndf1)"
   ]
  },
  {
   "cell_type": "code",
   "execution_count": null,
   "id": "ff5d0de0-2ad9-4b41-a7e9-1650c357a866",
   "metadata": {},
   "outputs": [],
   "source": []
  }
 ],
 "metadata": {
  "kernelspec": {
   "display_name": "Python 3 (ipykernel)",
   "language": "python",
   "name": "python3"
  },
  "language_info": {
   "codemirror_mode": {
    "name": "ipython",
    "version": 3
   },
   "file_extension": ".py",
   "mimetype": "text/x-python",
   "name": "python",
   "nbconvert_exporter": "python",
   "pygments_lexer": "ipython3",
   "version": "3.9.12"
  },
  "vscode": {
   "interpreter": {
    "hash": "8dc9fdf06e3c09f20a46b411cbed36ecb0d59cc132f7ae19e21215151734ac44"
   }
  }
 },
 "nbformat": 4,
 "nbformat_minor": 5
}
